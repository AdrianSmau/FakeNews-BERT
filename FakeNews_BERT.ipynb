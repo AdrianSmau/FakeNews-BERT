{
  "nbformat": 4,
  "nbformat_minor": 0,
  "metadata": {
    "colab": {
      "name": "FakeNews-BERT.ipynb",
      "provenance": [],
      "collapsed_sections": []
    },
    "kernelspec": {
      "name": "python3",
      "display_name": "Python 3"
    },
    "language_info": {
      "name": "python"
    },
    "accelerator": "GPU"
  },
  "cells": [
    {
      "cell_type": "markdown",
      "metadata": {
        "id": "ubGyoBNkUq9T"
      },
      "source": [
        "# ***Imports***"
      ]
    },
    {
      "cell_type": "code",
      "metadata": {
        "id": "7-lqJGHQUTDA"
      },
      "source": [
        "import pandas as pd\n",
        "import numpy as np\n",
        "import matplotlib.pyplot as plt\n",
        "import seaborn as sns\n",
        "\n",
        "# Core packages for text processing.\n",
        "\n",
        "import string\n",
        "import re\n",
        "\n",
        "# Libraries for text preprocessing.\n",
        "\n",
        "import nltk\n",
        "nltk.download('stopwords')\n",
        "nltk.download('punkt')\n",
        "nltk.download('averaged_perceptron_tagger')\n",
        "nltk.download('wordnet')\n",
        "from nltk.corpus import stopwords, wordnet\n",
        "from nltk.stem import WordNetLemmatizer, SnowballStemmer\n",
        "from nltk.tokenize import word_tokenize\n",
        "from nltk.probability import FreqDist\n",
        "\n",
        "# Loading some sklearn packaces for modelling.\n",
        "\n",
        "from sklearn.feature_extraction.text import CountVectorizer, TfidfVectorizer\n",
        "from sklearn.decomposition import LatentDirichletAllocation, NMF\n",
        "from sklearn.metrics import f1_score, accuracy_score, classification_report, confusion_matrix\n",
        "from sklearn.preprocessing import LabelEncoder\n",
        "\n",
        "# Some packages for word clouds and NER.\n",
        "\n",
        "from wordcloud import WordCloud, STOPWORDS\n",
        "from collections import Counter, defaultdict\n",
        "from PIL import Image\n",
        "import spacy\n",
        "!pip install https://github.com/explosion/spacy-models/releases/download/en_core_web_sm-2.2.5/en_core_web_sm-2.2.5.tar.gz\n",
        "import en_core_web_sm\n",
        "\n",
        "# Core packages for general use throughout the notebook.\n",
        "\n",
        "import random\n",
        "import warnings\n",
        "import time\n",
        "import datetime\n",
        "\n",
        "# For customizing our plots.\n",
        "\n",
        "from matplotlib.ticker import MaxNLocator\n",
        "import matplotlib.gridspec as gridspec\n",
        "import matplotlib.patches as mpatches\n",
        "\n",
        "# Loading pytorch packages.\n",
        "\n",
        "import torch\n",
        "!pip install transformers\n",
        "from transformers import BertTokenizer, BertForSequenceClassification, AdamW, BertConfig, get_linear_schedule_with_warmup\n",
        "from torch.utils.data import TensorDataset, random_split, DataLoader, RandomSampler, SequentialSampler\n",
        "\n",
        "# Setting some options for general use.\n",
        "\n",
        "stop = set(stopwords.words('english'))\n",
        "plt.style.use('fivethirtyeight')\n",
        "sns.set(font_scale=1.5)\n",
        "pd.options.display.max_columns = 250\n",
        "pd.options.display.max_rows = 250\n",
        "warnings.filterwarnings('ignore')\n",
        "\n",
        "\n",
        "#Setting seeds for consistent results.\n",
        "seed_val = 42\n",
        "random.seed(seed_val)\n",
        "np.random.seed(seed_val)\n",
        "torch.manual_seed(seed_val)\n",
        "torch.cuda.manual_seed_all(seed_val)"
      ],
      "execution_count": null,
      "outputs": []
    },
    {
      "cell_type": "markdown",
      "metadata": {
        "id": "6hxVieaWUtYP"
      },
      "source": [
        "# ***Preprocessing and Data Exploration***"
      ]
    },
    {
      "cell_type": "markdown",
      "metadata": {
        "id": "AA9ow7uHU13g"
      },
      "source": [
        "***Device***"
      ]
    },
    {
      "cell_type": "code",
      "metadata": {
        "id": "AAUiI4qaUx78"
      },
      "source": [
        "if torch.cuda.is_available():     \n",
        "  device = torch.device('cuda')    \n",
        "else:\n",
        "  device = torch.device('cpu')"
      ],
      "execution_count": null,
      "outputs": []
    },
    {
      "cell_type": "markdown",
      "metadata": {
        "id": "3FIVcwx8VIXl"
      },
      "source": [
        "***Data Merging, Shuffling and Splitting***"
      ]
    },
    {
      "cell_type": "code",
      "metadata": {
        "colab": {
          "base_uri": "https://localhost:8080/"
        },
        "id": "DX2nSBZkU_x7",
        "outputId": "c1c945e3-8103-40dd-8ac5-444c65b776d3"
      },
      "source": [
        "s1 = pd.read_csv(\"Batch1.tsv\", delimiter='\\t', encoding='utf-8')\n",
        "s2 = pd.read_csv(\"Batch2.tsv\", delimiter='\\t', encoding='utf-8')\n",
        "s3 = pd.read_csv(\"Test.csv\", delimiter=',', encoding='utf-8')\n",
        "data_p_false=s2[s2['our rating']=='partially false']\n",
        "data_true=s2[s2['our rating']=='true']\n",
        "data_other=s2[s2['our rating']=='other']\n",
        "s2=(data_p_false.append(data_true)).append(data_other)\n",
        "s2 = s2.sample(frac=1, random_state = 24).reset_index(drop=True)\n",
        "sample = pd.concat([s1,s2])\n",
        "sample = sample.sample(frac = 1)\n",
        "print(Counter(sample['our rating'].values))\n",
        "train = sample\n",
        "test = s3\n",
        "\n",
        "test_ids = test['public_id']\n",
        "\n",
        "print(f'Number of inputs in test: {test.shape[0]}\\n')\n",
        "print(f'Number of inputs in train: {train.shape[0]}\\n')"
      ],
      "execution_count": null,
      "outputs": [
        {
          "output_type": "stream",
          "text": [
            "Counter({'false': 315, 'partially false': 217, 'true': 142, 'other': 76})\n",
            "Number of inputs in test: 364\n",
            "\n",
            "Number of inputs in train: 750\n",
            "\n"
          ],
          "name": "stdout"
        }
      ]
    },
    {
      "cell_type": "markdown",
      "metadata": {
        "id": "ooLjb9feV-UA"
      },
      "source": [
        "***Turning column 'our rating' into encoded column 'labels' with numbers instead of text***"
      ]
    },
    {
      "cell_type": "code",
      "metadata": {
        "id": "bFlCmiuTWHSH",
        "colab": {
          "base_uri": "https://localhost:8080/"
        },
        "outputId": "2df0bc90-8fae-4626-a8a6-d92d19d91b67"
      },
      "source": [
        "print(test.sample(5))\n",
        "test.drop(['our rating'], axis = 1, inplace = True)\n",
        "\n",
        "target_var2 = train['our rating'].values\n",
        "encoder = LabelEncoder()\n",
        "labels = encoder.fit_transform(target_var2)\n",
        "train['label'] = labels\n",
        "train.drop(['our rating'], axis = 1, inplace = True)\n",
        "\n",
        "idx = len(labels)"
      ],
      "execution_count": null,
      "outputs": [
        {
          "output_type": "stream",
          "text": [
            "    public_id                                               text  \\\n",
            "157  87a297a2  The NHS Long Term Plan, published today, will ...   \n",
            "123  96b47cba  White House press secretary Sarah Huckabee San...   \n",
            "289  caa34051  A domino-like cascade of melting ice, warming ...   \n",
            "143  cef0a3d1  Occupation: President and CEO, Bettencourt Tax...   \n",
            "332  1393bc27  I’m not sure the whole thing isn’t crazy, this...   \n",
            "\n",
            "                                                 title  our rating  \n",
            "157  NHS Long Term Plan to tackle major killer cond...         NaN  \n",
            "123  Affordable Housing Impact Statements could gui...         NaN  \n",
            "289  Domino-effect of climate events could move Ear...         NaN  \n",
            "143  The CDC has admitted face masks do little to p...         NaN  \n",
            "332  James Lovelock: ‘Before the end of this centur...         NaN  \n"
          ],
          "name": "stdout"
        }
      ]
    },
    {
      "cell_type": "markdown",
      "metadata": {
        "id": "Mydo8oRqWdCy"
      },
      "source": [
        "***Data exploration in order to see the layout of our labels*** <br>\n",
        "***0 - False*** <br>\n",
        "***1 - Other*** <br>\n",
        "***2 - Partially False*** <br>\n",
        "***3 - True***"
      ]
    },
    {
      "cell_type": "code",
      "metadata": {
        "colab": {
          "base_uri": "https://localhost:8080/",
          "height": 427
        },
        "id": "iuuFziD8Whlz",
        "outputId": "8ce364a8-646e-4bc9-9cf1-6bad9775a56d"
      },
      "source": [
        "f,ax = plt.subplots(1,2,figsize=(14,6))\n",
        "train['label'].value_counts().plot.pie(explode=[0, 0.1, 0.2, 0.3],autopct='%1.1f%%', ax=ax[0], shadow=True)\n",
        "ax[0].set_title('Pie plot - Label')\n",
        "ax[0].set_ylabel('')\n",
        "sns.countplot('label', data = train, ax=ax[1])\n",
        "ax[1].set_title('Count plot - Label')\n",
        "plt.show()"
      ],
      "execution_count": null,
      "outputs": [
        {
          "output_type": "display_data",
          "data": {
            "image/png": "[encoded data removed]",
            "text/plain": [
              "<Figure size 1008x432 with 2 Axes>"
            ]
          },
          "metadata": {
            "tags": [],
            "needs_background": "light"
          }
        }
      ]
    },
    {
      "cell_type": "markdown",
      "metadata": {
        "id": "FzzXzHcl9-Ed"
      },
      "source": [
        "***Some WordClouds to bettere see the data distribution***"
      ]
    },
    {
      "cell_type": "code",
      "metadata": {
        "id": "Cm4CQUXK-CUz"
      },
      "source": [
        "plt.figure(figsize = (10,10))\n",
        "wc = WordCloud(max_words = 2000, width = 1600, height = 800).generate(\" \".join(train[train.label == 0].text))\n",
        "plt.axis('off')\n",
        "plt.title('False News')\n",
        "plt.imshow(wc,interpolation = 'bilinear')"
      ],
      "execution_count": null,
      "outputs": []
    },
    {
      "cell_type": "code",
      "metadata": {
        "id": "56KkpbJQ-Hy6"
      },
      "source": [
        "plt.figure(figsize = (10,10))\n",
        "wc = WordCloud(max_words = 2000, width = 1600, height = 800).generate(\" \".join(train[train.label == 1].text))\n",
        "plt.axis('off')\n",
        "plt.title('True News')\n",
        "plt.imshow(wc,interpolation = 'bilinear')"
      ],
      "execution_count": null,
      "outputs": []
    },
    {
      "cell_type": "code",
      "metadata": {
        "id": "JQVx3jc8-MRz"
      },
      "source": [
        "plt.figure(figsize = (10,10))\n",
        "wc = WordCloud(max_words = 2000, width = 1600, height = 800).generate(\" \".join(train[train.label == 2].text))\n",
        "plt.axis('off')\n",
        "plt.title('Other News')\n",
        "plt.imshow(wc,interpolation = 'bilinear')"
      ],
      "execution_count": null,
      "outputs": []
    },
    {
      "cell_type": "code",
      "metadata": {
        "id": "pctS6Vil-PVH"
      },
      "source": [
        "plt.figure(figsize = (10,10))\n",
        "wc = WordCloud(max_words = 2000, width = 1600, height = 800).generate(\" \".join(train[train.label == 3].text))\n",
        "plt.axis('off')\n",
        "plt.title('Partially False News')\n",
        "plt.imshow(wc,interpolation = 'bilinear')"
      ],
      "execution_count": null,
      "outputs": []
    },
    {
      "cell_type": "markdown",
      "metadata": {
        "id": "ip42D_LTXUBi"
      },
      "source": [
        "***Concatenating the title with the text and dropping unnecessary columns***"
      ]
    },
    {
      "cell_type": "code",
      "metadata": {
        "id": "ArrSHUF2XcCx"
      },
      "source": [
        "train['text'].fillna(\"\", inplace=True)\n",
        "test['text'].fillna(\"\", inplace=True)\n",
        "\n",
        "train['text'] = train['title'] + \" \" + train['text']\n",
        "test['text'] = test['title'] + \" \" + test['text']\n",
        "\n",
        "train.drop(['public_id','title'], axis=1, inplace=True)\n",
        "test.drop(['public_id','title'], axis=1, inplace=True)"
      ],
      "execution_count": null,
      "outputs": []
    },
    {
      "cell_type": "markdown",
      "metadata": {
        "id": "gPrFvjp5YL9Y"
      },
      "source": [
        "***Defining some adjuvant functions for preprocessing the text***"
      ]
    },
    {
      "cell_type": "code",
      "metadata": {
        "id": "frYYKSDUYVU6"
      },
      "source": [
        "stop_words = stopwords.words('english')\n",
        "stemmer = SnowballStemmer('english')\n",
        "lemmatizer = WordNetLemmatizer()\n",
        "\n",
        "def floatToString(text):\n",
        "    try:\n",
        "      float(text)\n",
        "      return str(text)\n",
        "    except ValueError:\n",
        "      return text\n",
        "\n",
        "def line_removal(text):\n",
        "    all_list = [char for char in text if char not in \"…-–—_©“”‘’•⋆»\"]\n",
        "    clean_str = ''.join(all_list)\n",
        "    return clean_str\n",
        "\n",
        "def punctuation_removal(text):\n",
        "    all_list = [char for char in text if char not in string.punctuation]\n",
        "    clean_str = ''.join(all_list)\n",
        "    return clean_str\n",
        "\n",
        "def preprocess(text,stem=False):\n",
        "    text = floatToString(text)\n",
        "    text = text.lower()\n",
        "    text = line_removal(text)\n",
        "    text = punctuation_removal(text)\n",
        "    text = re.sub(r'[!]+', '!', text)\n",
        "    text = re.sub(r'[?]+', '?', text)\n",
        "    text = re.sub(r'[.]+', '.', text)\n",
        "    text = re.sub(r\"'\", \"\", text)\n",
        "    text = re.sub('\\s+', ' ', text).strip()\n",
        "    text = re.sub(r'&amp;?', r'and', text)\n",
        "    text = re.sub(r\"https?:\\/\\/t.co\\/[A-Za-z0-9]+\", \"\", text)\n",
        "    text = re.sub(r'[:\"$%&\\*+,-/:;<=>@\\\\^_`{|}~]+', '', text)\n",
        "    emoji_pattern = re.compile(\"[\"\n",
        "                               u\"\\U0001F600-\\U0001F64F\"  # Emoticons\n",
        "                               u\"\\U0001F300-\\U0001F5FF\"  # Symbols & Pictographs\n",
        "                               u\"\\U0001F680-\\U0001F6FF\"  # Transport & Map Symbols\n",
        "                               u\"\\U0001F1E0-\\U0001F1FF\"  # Flags (iOS)\n",
        "                               u\"\\U00002702-\\U000027B0\"\n",
        "                               u\"\\U000024C2-\\U0001F251\"\n",
        "                               \"]+\", flags=re.UNICODE)\n",
        "    text = emoji_pattern.sub(r'EMOJI', text)\n",
        "    \n",
        "    tokens = []\n",
        "    for token in text.split():\n",
        "        if token not in stop_words:\n",
        "            tokens.append(lemmatizer.lemmatize(token))\n",
        "    return \" \".join(tokens)"
      ],
      "execution_count": null,
      "outputs": []
    },
    {
      "cell_type": "markdown",
      "metadata": {
        "id": "ZEaSRQ33hQLV"
      },
      "source": [
        "# ***Modelling***"
      ]
    },
    {
      "cell_type": "markdown",
      "metadata": {
        "id": "eo_mQ7lNaWBf"
      },
      "source": [
        "***Combining the 'text' columns from test and train, tokenizing it and mapping the tokens to their word IDs.***"
      ]
    },
    {
      "cell_type": "code",
      "metadata": {
        "id": "3L1qJQw1yUGZ"
      },
      "source": [
        "train['text'] = train['text'].apply(lambda x: preprocess(x))\n",
        "test['text'] = test['text'].apply(lambda x: preprocess(x))\n",
        "\n",
        "tokenizer = BertTokenizer.from_pretrained('bert-large-uncased', do_lower_case=True)\n",
        "\n",
        "combined = pd.concat([test,train])\n",
        "combined = combined['text'].values\n",
        "\n",
        "print('Texts: ', combined[0])\n",
        "print('Tokenized texts: ', tokenizer.tokenize(combined[0]))\n",
        "print('Token IDs: ', tokenizer.convert_tokens_to_ids(tokenizer.tokenize(combined[0])))"
      ],
      "execution_count": null,
      "outputs": []
    },
    {
      "cell_type": "markdown",
      "metadata": {
        "id": "VtACCL-DQCj7"
      },
      "source": [
        "***Formatting the train and test DataFrames in order to avoid getting a size mismatch when creating the TensorDataset***"
      ]
    },
    {
      "cell_type": "code",
      "metadata": {
        "colab": {
          "base_uri": "https://localhost:8080/"
        },
        "id": "bfFkCKDcymGa",
        "outputId": "a0bff8da-4569-4870-8ce3-18b9106daa77"
      },
      "source": [
        "train = combined[:idx]\n",
        "test = combined[idx:]\n",
        "train.shape"
      ],
      "execution_count": null,
      "outputs": [
        {
          "output_type": "execute_result",
          "data": {
            "text/plain": [
              "(750,)"
            ]
          },
          "metadata": {
            "tags": []
          },
          "execution_count": 13
        }
      ]
    },
    {
      "cell_type": "markdown",
      "metadata": {
        "id": "rSbc3kKpQseF"
      },
      "source": [
        "***Further formatting the text, tokenizing the sentences, prepending and appending with the [CLS] and [SEP] tokens, mapping the tokens, truncating each sentence in order to fit our constraints and finally creating attention masks***"
      ]
    },
    {
      "cell_type": "code",
      "metadata": {
        "id": "_y-JBsMuacOp"
      },
      "source": [
        "def tokenize_map(sentence,labs='None'):\n",
        "    global labels\n",
        "    input_ids = []\n",
        "    attention_masks = []\n",
        "    \n",
        "    for text in sentence:\n",
        "        #   (1) Tokenize the sentence.\n",
        "        #   (2) Prepend the `[CLS]` token to the start.\n",
        "        #   (3) Append the `[SEP]` token to the end.\n",
        "        #   (4) Map tokens to their IDs.\n",
        "        #   (5) Pad or truncate the sentence to `max_length`\n",
        "        #   (6) Create attention masks for [PAD] tokens.\n",
        "        \n",
        "        encoded_dict = tokenizer.encode_plus(\n",
        "                            text,                      \n",
        "                            add_special_tokens = True,    # Add '[CLS]' and '[SEP]'\n",
        "                            truncation='longest_first',   # Activate and control truncation\n",
        "                            max_length = 72,              # Max length according to our current RAM constraints.\n",
        "                            pad_to_max_length = True,     # Pad & truncate all sentences.\n",
        "                            return_attention_mask = True, # Construct attn. masks.\n",
        "                            return_tensors = 'pt',        # Return pytorch tensors.\n",
        "                       )\n",
        "\n",
        "        # Add the encoded sentence to the id list.         \n",
        "        input_ids.append(encoded_dict['input_ids'])\n",
        "\n",
        "        # And its attention mask (differentiates padding from non-padding).        \n",
        "        attention_masks.append(encoded_dict['attention_mask'])\n",
        "\n",
        "    # Convert the lists into tensors.\n",
        "    input_ids = torch.cat(input_ids, dim=0)\n",
        "    attention_masks = torch.cat(attention_masks, dim=0)\n",
        "    \n",
        "    if labs != 'None': # Setting this for using this definition for both train and test data so labels won't be a problem in our outputs.\n",
        "        labels = torch.tensor(labels)\n",
        "        return input_ids, attention_masks, labels\n",
        "    else:\n",
        "        return input_ids, attention_masks"
      ],
      "execution_count": null,
      "outputs": []
    },
    {
      "cell_type": "code",
      "metadata": {
        "id": "NmZ8XG9ufy9d"
      },
      "source": [
        "input_ids, attention_masks, labels = tokenize_map(train, labels)\n",
        "test_input_ids, test_attention_masks= tokenize_map(test)"
      ],
      "execution_count": null,
      "outputs": []
    },
    {
      "cell_type": "code",
      "metadata": {
        "id": "usY1JhbytLdQ"
      },
      "source": [
        "decode = tokenizer.decode(input_ids[0])\n",
        "decode"
      ],
      "execution_count": null,
      "outputs": []
    },
    {
      "cell_type": "markdown",
      "metadata": {
        "id": "7IUiu0aKgAfK"
      },
      "source": [
        "***Create the TensorDataset and splitting the train data (from the TensorDataset data) in order to create a 80-20 split for training-validation***"
      ]
    },
    {
      "cell_type": "code",
      "metadata": {
        "id": "TfiPJCb9gTdy",
        "colab": {
          "base_uri": "https://localhost:8080/"
        },
        "outputId": "25a9a71c-5b62-4831-e079-35e6c4b39c6b"
      },
      "source": [
        "dataset = TensorDataset(input_ids, attention_masks, labels)\n",
        "\n",
        "# Calculate the number of samples to include in each set.\n",
        "\n",
        "train_size = int(0.9 * len(dataset))\n",
        "val_size = len(dataset) - train_size\n",
        "\n",
        "# Divide the dataset by randomly selecting samples.\n",
        "\n",
        "train_dataset, val_dataset = random_split(dataset, [train_size, val_size])\n",
        "\n",
        "print('{:>5,} training samples'.format(train_size))\n",
        "print('{:>5,} validation samples'.format(val_size))"
      ],
      "execution_count": null,
      "outputs": [
        {
          "output_type": "stream",
          "text": [
            "  675 training samples\n",
            "   75 validation samples\n"
          ],
          "name": "stdout"
        }
      ]
    },
    {
      "cell_type": "markdown",
      "metadata": {
        "id": "CvWIPpOQhg2d"
      },
      "source": [
        "# ***Fine-Tuning***"
      ]
    },
    {
      "cell_type": "markdown",
      "metadata": {
        "id": "dAFYbEsqiH7Z"
      },
      "source": [
        "***Creating the DataLoaders for the Training and Validation sets***"
      ]
    },
    {
      "cell_type": "code",
      "metadata": {
        "id": "-raWsQ37hjfD"
      },
      "source": [
        "batch_size = 12\n",
        "\n",
        "# Create the DataLoaders for our training and validation sets.\n",
        "# We'll take training samples in random order. \n",
        "train_dataloader = DataLoader(\n",
        "            train_dataset,  # Training samples.\n",
        "            sampler = RandomSampler(train_dataset), # Random Batches.\n",
        "            batch_size = batch_size # Batch Size.\n",
        "        )\n",
        "\n",
        "# For validation the order doesn't matter, so we'll just read them sequentially.\n",
        "validation_dataloader = DataLoader(\n",
        "            val_dataset, # Validation Samples.\n",
        "            sampler = SequentialSampler(val_dataset), # Sequencial Batch Selection.\n",
        "            batch_size = batch_size # Batch Size.\n",
        ")\n",
        "\n",
        "prediction_data = TensorDataset(test_input_ids, test_attention_masks)\n",
        "prediction_sampler = SequentialSampler(prediction_data)\n",
        "prediction_dataloader = DataLoader(prediction_data, sampler=prediction_sampler, batch_size=batch_size)"
      ],
      "execution_count": null,
      "outputs": []
    },
    {
      "cell_type": "markdown",
      "metadata": {
        "id": "LXl5ZYc1ifxs"
      },
      "source": [
        "***Loading the pretrained BERT model (single linear classification)***"
      ]
    },
    {
      "cell_type": "code",
      "metadata": {
        "id": "ozT6J9-Uil91"
      },
      "source": [
        "model = BertForSequenceClassification.from_pretrained(\n",
        "    'bert-large-uncased', # 124-layers, 1024-hidden, 16-heads, 340M parameters BERT model, Uncased Vocab.\n",
        "    num_labels = 4, # We have 4 output labels -- False, Possibly False, Other and True   \n",
        "    output_attentions = False,\n",
        "    output_hidden_states = False,\n",
        ")\n",
        "model.to(device)"
      ],
      "execution_count": null,
      "outputs": []
    },
    {
      "cell_type": "markdown",
      "metadata": {
        "id": "Tpp2pUuHi5tq"
      },
      "source": [
        "***Optimizer SetUp***"
      ]
    },
    {
      "cell_type": "code",
      "metadata": {
        "id": "627KDcSGi85L"
      },
      "source": [
        "optimizer = AdamW(model.parameters(),\n",
        "                  lr = 6e-6, # Learning Rate\n",
        "                  eps = 1e-8 # Adam Epsilon\n",
        "                )"
      ],
      "execution_count": null,
      "outputs": []
    },
    {
      "cell_type": "markdown",
      "metadata": {
        "id": "98bEn92sjI6C"
      },
      "source": [
        "***Setting up Epochs, Training Steps and Learning Rate Scheduler***"
      ]
    },
    {
      "cell_type": "code",
      "metadata": {
        "id": "2R_25ZssjQqK"
      },
      "source": [
        "epochs = 3\n",
        "\n",
        "total_steps = len(train_dataloader) * epochs\n",
        "\n",
        "scheduler = get_linear_schedule_with_warmup(optimizer, \n",
        "                                            num_warmup_steps = 0,\n",
        "                                            num_training_steps = total_steps)"
      ],
      "execution_count": null,
      "outputs": []
    },
    {
      "cell_type": "markdown",
      "metadata": {
        "id": "9Lwdz0Cnjghs"
      },
      "source": [
        "***Function to help keep track of Elapsed Time, Accuracy and F1***"
      ]
    },
    {
      "cell_type": "code",
      "metadata": {
        "id": "vbz_NL1Ljn0E"
      },
      "source": [
        "def flat_accuracy(preds, labels):\n",
        "    pred_flat = np.argmax(preds, axis=1).flatten()\n",
        "    labels_flat = labels.flatten()\n",
        "    return accuracy_score(labels_flat, pred_flat)\n",
        "\n",
        "def flat_f1(preds, labels):\n",
        "    pred_flat = np.argmax(preds, axis=1).flatten()\n",
        "    labels_flat = labels.flatten()\n",
        "    return f1_score(labels_flat, pred_flat,average='micro')\n",
        "\n",
        "def format_time(elapsed):    \n",
        "    elapsed_rounded = int(round((elapsed)))\n",
        "    return str(datetime.timedelta(seconds=elapsed_rounded))"
      ],
      "execution_count": null,
      "outputs": []
    },
    {
      "cell_type": "markdown",
      "metadata": {
        "id": "8I8P5vfnjz_H"
      },
      "source": [
        "# ***Training and Validation Phase***"
      ]
    },
    {
      "cell_type": "code",
      "metadata": {
        "id": "SkNagaVMj2FU",
        "colab": {
          "base_uri": "https://localhost:8080/"
        },
        "outputId": "5bcbede6-5f8f-45e3-f7f4-f5f51911ff4b"
      },
      "source": [
        "training_stats = []\n",
        "total_t0 = time.time()\n",
        "\n",
        "for epoch_i in range(0, epochs):\n",
        "    \n",
        "    # ----- TRAINING -----\n",
        "\n",
        "    print('')\n",
        "    print('======== Epoch {:} / {:} ========'.format(epoch_i + 1, epochs))\n",
        "    print('Training...')\n",
        "    \n",
        "    t0 = time.time()\n",
        "    total_train_loss = 0\n",
        "    \n",
        "    model.train()   \n",
        "    for step, batch in enumerate(train_dataloader):\n",
        "\n",
        "        if step % 10 == 0 and not step == 0:\n",
        "            elapsed = format_time(time.time() - t0)\n",
        "            \n",
        "            print('  Batch {:>5,}  of  {:>5,}.    Elapsed: {:}.'.format(step, len(train_dataloader), elapsed))\n",
        "        \n",
        "        b_input_ids = batch[0].to(device).to(torch.int64)\n",
        "        b_input_mask = batch[1].to(device).to(torch.int64)\n",
        "        b_labels = batch[2].to(device).to(torch.int64)\n",
        "        \n",
        "        model.zero_grad()        \n",
        "        loss = model(b_input_ids, \n",
        "                                   token_type_ids=None, \n",
        "                                   attention_mask=b_input_mask,\n",
        "                                   labels=b_labels)[0]\n",
        "        logits = model(b_input_ids, \n",
        "                                   token_type_ids=None, \n",
        "                                   attention_mask=b_input_mask,\n",
        "                                   labels=b_labels)[1]\n",
        "        \n",
        "        total_train_loss += loss.item()\n",
        "        loss.backward()\n",
        "        torch.nn.utils.clip_grad_norm_(model.parameters(), 1.0)\n",
        "        \n",
        "        optimizer.step()    \n",
        "        scheduler.step()\n",
        "    \n",
        "    avg_train_loss = total_train_loss / len(train_dataloader)               \n",
        "    training_time = format_time(time.time() - t0)\n",
        "\n",
        "    print('')\n",
        "    print('  Average training loss: {0:.2f}'.format(avg_train_loss))\n",
        "    print('  Training epoch took: {:}'.format(training_time))\n",
        "        \n",
        "    # ----- VALIDATION -----\n",
        "\n",
        "    print('')\n",
        "    print('Running Validation...')\n",
        "\n",
        "    t0 = time.time()\n",
        "    model.eval()\n",
        "    \n",
        "    total_eval_accuracy = 0\n",
        "    total_eval_loss = 0\n",
        "    total_eval_f1 = 0\n",
        "    nb_eval_steps = 0\n",
        "    \n",
        "    for batch in validation_dataloader:\n",
        "        b_input_ids = batch[0].to(device)\n",
        "        b_input_mask = batch[1].to(device)\n",
        "        b_labels = batch[2].to(device)\n",
        "        \n",
        "        with torch.no_grad():        \n",
        "            loss = model(b_input_ids, \n",
        "                                   token_type_ids=None, \n",
        "                                   attention_mask=b_input_mask,\n",
        "                                   labels=b_labels)[0]\n",
        "\n",
        "            logits = model(b_input_ids, \n",
        "                                   token_type_ids=None, \n",
        "                                   attention_mask=b_input_mask,\n",
        "                                   labels=b_labels)[1]\n",
        "        \n",
        "        total_eval_loss += loss.item()\n",
        "        logits = logits.detach().cpu().numpy()\n",
        "        label_ids = b_labels.to('cpu').numpy()\n",
        "        \n",
        "        total_eval_accuracy += flat_accuracy(logits, label_ids)\n",
        "        total_eval_f1 += flat_f1(logits, label_ids)\n",
        "    \n",
        "    avg_val_accuracy = total_eval_accuracy / len(validation_dataloader)\n",
        "    print('  Accuracy: {0:.2f}'.format(avg_val_accuracy))\n",
        "    \n",
        "    avg_val_f1 = total_eval_f1 / len(validation_dataloader)\n",
        "    print('  F1: {0:.2f}'.format(avg_val_f1))\n",
        "    \n",
        "    avg_val_loss = total_eval_loss / len(validation_dataloader)\n",
        "    \n",
        "    validation_time = format_time(time.time() - t0)\n",
        "    \n",
        "    print('  Validation Loss: {0:.2f}'.format(avg_val_loss))\n",
        "    print('  Validation took: {:}'.format(validation_time))\n",
        "    \n",
        "    training_stats.append(\n",
        "        {\n",
        "            'epoch': epoch_i + 1,\n",
        "            'Training Loss': avg_train_loss,\n",
        "            'Valid. Loss': avg_val_loss,\n",
        "            'Valid. Accur.': avg_val_accuracy,\n",
        "            'Val_F1' : avg_val_f1,\n",
        "            'Training Time': training_time,\n",
        "            'Validation Time': validation_time\n",
        "        }\n",
        "    )\n",
        "\n",
        "print('')\n",
        "print('Training complete!')\n",
        "\n",
        "print('Total training took {:} (h:mm:ss)'.format(format_time(time.time()-total_t0)))"
      ],
      "execution_count": null,
      "outputs": [
        {
          "output_type": "stream",
          "text": [
            "\n",
            "======== Epoch 1 / 3 ========\n",
            "Training...\n",
            "  Batch    10  of     57.    Elapsed: 0:00:08.\n",
            "  Batch    20  of     57.    Elapsed: 0:00:16.\n",
            "  Batch    30  of     57.    Elapsed: 0:00:23.\n",
            "  Batch    40  of     57.    Elapsed: 0:00:31.\n",
            "  Batch    50  of     57.    Elapsed: 0:00:39.\n",
            "\n",
            "  Average training loss: 1.31\n",
            "  Training epoch took: 0:00:44\n",
            "\n",
            "Running Validation...\n",
            "  Accuracy: 0.50\n",
            "  F1: 0.50\n",
            "  Validation Loss: 1.26\n",
            "  Validation took: 0:00:02\n",
            "\n",
            "======== Epoch 2 / 3 ========\n",
            "Training...\n",
            "  Batch    10  of     57.    Elapsed: 0:00:08.\n",
            "  Batch    20  of     57.    Elapsed: 0:00:16.\n",
            "  Batch    30  of     57.    Elapsed: 0:00:24.\n",
            "  Batch    40  of     57.    Elapsed: 0:00:33.\n",
            "  Batch    50  of     57.    Elapsed: 0:00:41.\n",
            "\n",
            "  Average training loss: 1.30\n",
            "  Training epoch took: 0:00:47\n",
            "\n",
            "Running Validation...\n",
            "  Accuracy: 0.49\n",
            "  F1: 0.49\n",
            "  Validation Loss: 1.25\n",
            "  Validation took: 0:00:03\n",
            "\n",
            "======== Epoch 3 / 3 ========\n",
            "Training...\n",
            "  Batch    10  of     57.    Elapsed: 0:00:09.\n",
            "  Batch    20  of     57.    Elapsed: 0:00:18.\n",
            "  Batch    30  of     57.    Elapsed: 0:00:27.\n",
            "  Batch    40  of     57.    Elapsed: 0:00:36.\n",
            "  Batch    50  of     57.    Elapsed: 0:00:44.\n",
            "\n",
            "  Average training loss: 1.26\n",
            "  Training epoch took: 0:00:50\n",
            "\n",
            "Running Validation...\n",
            "  Accuracy: 0.50\n",
            "  F1: 0.50\n",
            "  Validation Loss: 1.24\n",
            "  Validation took: 0:00:03\n",
            "\n",
            "Training complete!\n",
            "Total training took 0:02:28 (h:mm:ss)\n"
          ],
          "name": "stdout"
        }
      ]
    },
    {
      "cell_type": "markdown",
      "metadata": {
        "id": "zZXeeDE4lBy-"
      },
      "source": [
        "***Displaying Training Stats Table***"
      ]
    },
    {
      "cell_type": "code",
      "metadata": {
        "id": "POcjcQjjlGNh",
        "colab": {
          "base_uri": "https://localhost:8080/",
          "height": 166
        },
        "outputId": "47c44ff7-992e-4c0e-8a54-848499ed86c6"
      },
      "source": [
        "pd.set_option('precision', 3)\n",
        "df_stats = pd.DataFrame(data=training_stats)\n",
        "df_stats = df_stats.set_index('epoch')\n",
        "display(df_stats)"
      ],
      "execution_count": null,
      "outputs": [
        {
          "output_type": "display_data",
          "data": {
            "text/html": [
              "<div>\n",
              "<style scoped>\n",
              "    .dataframe tbody tr th:only-of-type {\n",
              "        vertical-align: middle;\n",
              "    }\n",
              "\n",
              "    .dataframe tbody tr th {\n",
              "        vertical-align: top;\n",
              "    }\n",
              "\n",
              "    .dataframe thead th {\n",
              "        text-align: right;\n",
              "    }\n",
              "</style>\n",
              "<table border=\"1\" class=\"dataframe\">\n",
              "  <thead>\n",
              "    <tr style=\"text-align: right;\">\n",
              "      <th></th>\n",
              "      <th>Training Loss</th>\n",
              "      <th>Valid. Loss</th>\n",
              "      <th>Valid. Accur.</th>\n",
              "      <th>Val_F1</th>\n",
              "      <th>Training Time</th>\n",
              "      <th>Validation Time</th>\n",
              "    </tr>\n",
              "    <tr>\n",
              "      <th>epoch</th>\n",
              "      <th></th>\n",
              "      <th></th>\n",
              "      <th></th>\n",
              "      <th></th>\n",
              "      <th></th>\n",
              "      <th></th>\n",
              "    </tr>\n",
              "  </thead>\n",
              "  <tbody>\n",
              "    <tr>\n",
              "      <th>1</th>\n",
              "      <td>1.311</td>\n",
              "      <td>1.260</td>\n",
              "      <td>0.500</td>\n",
              "      <td>0.500</td>\n",
              "      <td>0:00:44</td>\n",
              "      <td>0:00:02</td>\n",
              "    </tr>\n",
              "    <tr>\n",
              "      <th>2</th>\n",
              "      <td>1.295</td>\n",
              "      <td>1.253</td>\n",
              "      <td>0.488</td>\n",
              "      <td>0.488</td>\n",
              "      <td>0:00:47</td>\n",
              "      <td>0:00:03</td>\n",
              "    </tr>\n",
              "    <tr>\n",
              "      <th>3</th>\n",
              "      <td>1.256</td>\n",
              "      <td>1.244</td>\n",
              "      <td>0.500</td>\n",
              "      <td>0.500</td>\n",
              "      <td>0:00:50</td>\n",
              "      <td>0:00:03</td>\n",
              "    </tr>\n",
              "  </tbody>\n",
              "</table>\n",
              "</div>"
            ],
            "text/plain": [
              "       Training Loss  Valid. Loss  Valid. Accur.  Val_F1 Training Time  \\\n",
              "epoch                                                                    \n",
              "1              1.311        1.260          0.500   0.500       0:00:44   \n",
              "2              1.295        1.253          0.488   0.488       0:00:47   \n",
              "3              1.256        1.244          0.500   0.500       0:00:50   \n",
              "\n",
              "      Validation Time  \n",
              "epoch                  \n",
              "1             0:00:02  \n",
              "2             0:00:03  \n",
              "3             0:00:03  "
            ]
          },
          "metadata": {
            "tags": []
          }
        }
      ]
    },
    {
      "cell_type": "markdown",
      "metadata": {
        "id": "BqCz8Ml6_0PN"
      },
      "source": [
        "***Generating Training and Validation Loss Graph***"
      ]
    },
    {
      "cell_type": "code",
      "metadata": {
        "id": "2zPqATU7_50I",
        "colab": {
          "base_uri": "https://localhost:8080/",
          "height": 586
        },
        "outputId": "9b15d8fc-f1a0-456c-f50c-992031fac064"
      },
      "source": [
        "fig, axes = plt.subplots(figsize=(12,8))\n",
        "\n",
        "plt.plot(df_stats['Training Loss'], 'b-o', label='Training')\n",
        "plt.plot(df_stats['Valid. Loss'], 'g-o', label='Validation')\n",
        "\n",
        "plt.title('Training & Validation Loss')\n",
        "plt.xlabel('Epoch')\n",
        "plt.ylabel('Loss')\n",
        "\n",
        "plt.legend()\n",
        "plt.xticks([1, 2])\n",
        "\n",
        "#plt.show()"
      ],
      "execution_count": null,
      "outputs": [
        {
          "output_type": "execute_result",
          "data": {
            "text/plain": [
              "([<matplotlib.axis.XTick at 0x7fd302eba590>,\n",
              "  <matplotlib.axis.XTick at 0x7fd302eba3d0>],\n",
              " <a list of 2 Text major ticklabel objects>)"
            ]
          },
          "metadata": {
            "tags": []
          },
          "execution_count": 25
        },
        {
          "output_type": "display_data",
          "data": {
            "image/png": "[encoded data removed]",
            "text/plain": [
              "<Figure size 864x576 with 1 Axes>"
            ]
          },
          "metadata": {
            "tags": [],
            "needs_background": "light"
          }
        }
      ]
    },
    {
      "cell_type": "markdown",
      "metadata": {
        "id": "GoifamnikajP"
      },
      "source": [
        "# ***Predictions***"
      ]
    },
    {
      "cell_type": "code",
      "metadata": {
        "id": "uxXYoQVp29Rn",
        "colab": {
          "base_uri": "https://localhost:8080/"
        },
        "outputId": "0c80aefb-b2ab-4df3-bffc-8f2cff842225"
      },
      "source": [
        "import re\n",
        "import nltk\n",
        "import argparse\n",
        "import tensorflow as tf\n",
        "\n",
        "\n",
        "class Model:\n",
        "    def __init__(self, text):\n",
        "        self.text = text\n",
        "\n",
        "    def download_dependencies(self):\n",
        "        pass\n",
        "\n",
        "    def process_text(self):\n",
        "        pass\n",
        "\n",
        "    def predict(self):\n",
        "        pass\n",
        "\n",
        "    def load_model():\n",
        "        pass\n",
        "\n",
        "class BertModel(Model):\n",
        "    def __init__(self, text):\n",
        "        super().__init__(text)\n",
        "\n",
        "    def process_text(self):\n",
        "        preprocess(self.text) \n",
        "    \n",
        "    def load_model():\n",
        "      filename = 'finalized_model.sav'\n",
        "      pickle.dump(model, open(filename, 'wb'))\n",
        "      self=pickle.load(open(filename, 'rb'))\n",
        "\n",
        "if __name__ == '__main__':\n",
        "    BertModel(test[0])\n",
        "    print(test[0])"
      ],
      "execution_count": null,
      "outputs": [
        {
          "output_type": "stream",
          "text": [
            "rep david mckinley call increase border patrol agent rank wheeling least 53 million week illegal drug cross mexican border u week border agent needed usmexican border stop according u rep david b mckinley mckinley rwva recently traveled usmexican border learn issue first hand visited mcallen texas region rio grande district u border patrol commended work border agent put danger try keep border clean secure theyve done decade mckinley said compounded humanitarian crisis didnt always many people trying cross illegally agent attempt still security job put many pulled line take care humanitarian crisis border mckinley learned mexican drug cartel control happening border spoke immigrant detained border told paid cartel anywhere 3000 9000 get across border often part deal immigrant carry illegal drug journey immigrant captured sent back village must start seek help cartel mckinley said one border officer said cartel might making much money drug said border guard lot tool help track immigrant crossing u even dont manpower stop according mckinley entire usmexico border 2000 mile long rio grande district agent focus specific 300mile area section rio grande river narrow often water low immigrant walk across border guard showed mckinley footstep mud walked across night isnt wall camera sensor placed indicate immigrant coming across border cartel know agent could far 10 mile away possible passage unable stop thats help immigrant cross u according mckinley nearly million immigrant stopped border entering u last year said rio grande district agent responsible 399000 arrest know technology missed least 47000 immigrant crossing many immigrant entering u carried opioids according mckinley border agent say youve got pay attention 53 million week coming across border drug said compare state west virginia recently received 28 million opioid rehabilitation treatment education almost twice amount come across border week put perspective mckinley said\n"
          ],
          "name": "stdout"
        }
      ]
    },
    {
      "cell_type": "markdown",
      "metadata": {
        "id": "PVha25vuAEIW"
      },
      "source": [
        "***Serializing and saving the model and generating predictions on the test set***"
      ]
    },
    {
      "cell_type": "code",
      "metadata": {
        "id": "t00jVMSMAJUm"
      },
      "source": [
        "print('Predicting labels for {:,} test sentences...'.format(len(test_input_ids)))\n",
        "import pickle \n",
        "filename = 'finalized_model.sav'\n",
        "pickle.dump(model, open(filename, 'wb'))\n",
        "model=pickle.load(open(filename, 'rb'))\n",
        "model.eval()\n",
        "predictions = []\n",
        "\n",
        "for batch in prediction_dataloader:\n",
        "  batch = tuple(t.to(device) for t in batch) \n",
        "  b_input_ids, b_input_mask, = batch\n",
        "\n",
        "  with torch.no_grad():\n",
        "      outputs = model(b_input_ids, token_type_ids=None, \n",
        "                      attention_mask=b_input_mask)\n",
        "  logits = outputs[0]    \n",
        "  logits = logits.detach().cpu().numpy()\n",
        "  predictions.append(logits)\n",
        "\n",
        "print('    DONE.')\n",
        "\n",
        "flat_predictions = [item for sublist in predictions for item in sublist]\n",
        "flat_predictions = np.argmax(flat_predictions, axis=1).flatten()\n",
        "\n",
        "preds = pd.DataFrame()\n",
        "preds[\"public_id\"] = test_ids\n",
        "preds[\"our rating\"] = flat_predictions\n",
        "\n",
        "pred1=[]\n",
        "for i in range(len(preds)):\n",
        "    if preds['our rating'][i]==0:\n",
        "         preds['our rating'][i]='false'\n",
        "    if preds['our rating'][i]==3:\n",
        "        preds['our rating'][i]='true'\n",
        "    if preds['our rating'][i]==1:\n",
        "        preds['our rating'][i]='other'\n",
        "    if preds['our rating'][i]==2:\n",
        "        preds['our rating'][i]='partially false'\n",
        "preds.to_csv(\"results.csv\")\n",
        "s4 = pd.read_csv(\"results.csv\", delimiter=',', encoding='utf-8')\n",
        "s4\n",
        "\n"
      ],
      "execution_count": null,
      "outputs": []
    }
  ]
}